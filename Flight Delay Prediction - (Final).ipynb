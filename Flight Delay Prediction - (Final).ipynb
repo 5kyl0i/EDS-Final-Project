{
 "cells": [
  {
   "cell_type": "markdown",
   "metadata": {
    "slideshow": {
     "slide_type": "slide"
    }
   },
   "source": [
    "<a name = 'home'>\n",
    "\n",
    "## Table of Contents\n",
    "\n",
    "[1. Overview and Motivation](#1)\n",
    "\n",
    "[2. Initial Questions](#2)\n",
    "\n",
    "[3. Approach & Data Sources](#3)\n",
    "\n",
    "[4. Sample Data & Analysis](#4)\n",
    "\n",
    "[5. Data Preprocessing](#5)\n",
    "- Features Selection\n",
    "- Train Test Split\n",
    "- categorical Data Encoding\n",
    "- Data Scaling\n",
    "\n",
    "\n",
    "[6. Model Training](#6)\n",
    "- Random Forest\n",
    "- K-Nearest Neighbors\n",
    "- Logistics Regression\n",
    "- Support Vector Machine\n",
    "- Modeling Result\n",
    "\n",
    "[ 7. Finding ](#7)\n",
    "\n"
   ]
  },
  {
   "cell_type": "markdown",
   "metadata": {
    "slideshow": {
     "slide_type": "slide"
    }
   },
   "source": [
    "<a name = \"1\"></a>\n",
    "\n",
    "# 1. Overview and Motivation \n",
    "\n",
    "Applying things learned in class into this mini project by going through the whole machine learning workflow.\n"
   ]
  },
  {
   "cell_type": "markdown",
   "metadata": {
    "slideshow": {
     "slide_type": "slide"
    }
   },
   "source": [
    "<a name = \"2\"></a>\n",
    "\n",
    "# 2. Initial Questions\n",
    "\n",
    "By using flight delay records in year 2015 to predict flight which has significant delay on Jan 2016"
   ]
  },
  {
   "cell_type": "markdown",
   "metadata": {
    "slideshow": {
     "slide_type": "slide"
    }
   },
   "source": [
    "<a name = \"3\"></a>\n",
    "\n",
    "## 3. Approach & Data Sources\n",
    "Getting data from kaggle with link https://www.kaggle.com/usdot/flight-delays.\n",
    "Limited data to only delay flight records and only targeted on origin_airport = \"San Francisco International Airport\" and destination_airport = \"Los Angeles International Airport\"\n",
    "\n",
    "All those actual delay reasons, Wheel off time, Air System Delay Time, Weather Delay Time & irrelevant data had been removed.\n",
    "\n",
    "\n",
    "<i><b>Initial Features:</b>\n",
    "<br>YEAR\n",
    "<br>MONTH\n",
    "<br>DAY_x\n",
    "<br>AIRLINE\n",
    "<br>SCHEDULED_DATE\n",
    "<br>TIME_CTG\n",
    "\n",
    "<br><i><b>Accuracy : 0.77-0.79:</b>\n",
    "\n",
    "<br><i><b>Enhanced Features:</b>\n",
    "<br>YEAR\n",
    "<br>MONTH\n",
    "<br>DAY_x\n",
    "<br>DAY_OF_WEEK\n",
    "<br>AIRLINE\n",
    "<br>SCHEDULED_DEPARTURE\n",
    "<br>SCHEDULED_ARRIVAL\n",
    "<br>SCHEDULED_DATE\n",
    "<br>SCHEDULED_DT\n",
    "<br>TOTAL_DELAY\n",
    "<br>TIME_CTG\n",
    "<br>IS_HOLIDAY"
   ]
  },
  {
   "cell_type": "markdown",
   "metadata": {
    "slideshow": {
     "slide_type": "slide"
    }
   },
   "source": [
    "<a name = \"4\"></a>\n",
    "\n",
    "## 4. Sample Data & Analysis\n",
    "\n",
    "<font size = 1> [home](#home) </font>"
   ]
  },
  {
   "cell_type": "markdown",
   "metadata": {},
   "source": [
    "<font color='727375'><i><b>Import libraries</font>"
   ]
  },
  {
   "cell_type": "code",
   "execution_count": 48,
   "metadata": {
    "collapsed": true
   },
   "outputs": [],
   "source": [
    "%matplotlib inline\n",
    "\n",
    "import pandas as pd\n",
    "import numpy as np\n",
    "import re\n",
    "import datetime \n",
    "\n",
    "#plot\n",
    "import folium\n",
    "from matplotlib import cm\n",
    "import seaborn as sns; sns.set()\n",
    "import matplotlib.pyplot as plt\n",
    "\n",
    "#preprosessing\n",
    "from sklearn import preprocessing\n",
    "from sklearn import model_selection\n",
    "from sklearn.model_selection import train_test_split\n",
    "from sklearn.model_selection import GridSearchCV\n",
    "from sklearn.model_selection import cross_val_score\n",
    "from sklearn.preprocessing import MinMaxScaler\n",
    "from sklearn.preprocessing import StandardScaler\n",
    "\n",
    "#model\n",
    "from sklearn.linear_model import LogisticRegression\n",
    "from sklearn.neighbors import KNeighborsClassifier\n",
    "from sklearn.svm import SVC\n",
    "from sklearn.tree import DecisionTreeClassifier\n",
    "from sklearn.neural_network import MLPClassifier\n",
    "from sklearn.neural_network import MLPRegressor\n",
    "\n",
    "#ensemble\n",
    "from sklearn.ensemble import BaggingClassifier\n",
    "from sklearn.ensemble import RandomForestClassifier\n",
    "from sklearn.ensemble import AdaBoostClassifier\n",
    "from sklearn.ensemble import GradientBoostingClassifier\n",
    "from sklearn.ensemble import ExtraTreesClassifier\n",
    "\n",
    "#scoring\n",
    "from sklearn.metrics import accuracy_score\n",
    "from sklearn.metrics import precision_score\n",
    "from sklearn.metrics import recall_score\n",
    "from sklearn.metrics import f1_score\n",
    "from sklearn.metrics import roc_auc_score\n",
    "from sklearn.metrics import confusion_matrix\n",
    "\n",
    "#pipeline\n",
    "from sklearn.pipeline import Pipeline"
   ]
  },
  {
   "cell_type": "markdown",
   "metadata": {},
   "source": [
    "<font color='727375'><i><b>Import source files\n",
    "<br> 1. Flight\n",
    "<br> 2. Airline\n",
    "<br> 3. Holiday\n",
    "</font>"
   ]
  },
  {
   "cell_type": "code",
   "execution_count": 49,
   "metadata": {},
   "outputs": [
    {
     "name": "stdout",
     "output_type": "stream",
     "text": [
      "Importing Data Start..\n",
      "\n",
      "1. Import Flight Data\n",
      "2. Import Airline Data\n",
      "3. Import Holiday Data\n",
      "Importing Data Completed..\n",
      "Wall time: 505 ms\n"
     ]
    }
   ],
   "source": [
    "%%time\n",
    "print('Importing Data Start..')\n",
    "print()\n",
    "print('1. Import Flight Data')\n",
    "#import flight data\n",
    "df_flights = pd.read_csv(\"Flights_2.csv\",\n",
    "                                     low_memory=False , \n",
    "                                     dtype = {'SCHEDULED_DEPARTURE': str,\n",
    "                                                 'DEPARTURE_TIME': str,\n",
    "                                                 'DEPARTURE_DELAY': str,\n",
    "                                                 'SCHEDULED_ARRIVAL': str,\n",
    "                                                 'ARRIVAL_TIME': str,\n",
    "                                                 'SCHEDULED_TIME': str,\n",
    "                                                 'ARRIVAL_DELAY': str\n",
    "                                                 \n",
    "        })\n",
    "\n",
    "# import airline data\n",
    "print('2. Import Airline Data')\n",
    "df_airlines = pd.read_csv(\"airlines.csv\")\n",
    "\n",
    "\n",
    "#---------------------------------------------------------------\n",
    "# import USA_holiday data\n",
    "print('3. Import Holiday Data')\n",
    "df_USA_holiday = pd.read_excel(\"CA_HOLIDAY.xlsx\")\n",
    "df_USA_holiday.DATE = pd.to_datetime(df_USA_holiday['DATE'])\n",
    "# df_USA_holiday = df_USA_holiday[df_USA_holiday.STATE=='SFO']\n",
    "\n",
    "#---------------------------------------------------------------\n",
    "\n",
    "print('Importing Data Completed..')\n"
   ]
  },
  {
   "cell_type": "code",
   "execution_count": 50,
   "metadata": {
    "scrolled": false
   },
   "outputs": [
    {
     "name": "stdout",
     "output_type": "stream",
     "text": [
      "Data Preprocessing Start..\n",
      "\n",
      "Data Preprocessing Completed\n",
      "Wall time: 1.15 s\n"
     ]
    }
   ],
   "source": [
    "%%time\n",
    "print(\"Data Preprocessing Start..\")\n",
    "print()\n",
    "\n",
    "\n",
    "# New columns SCHEDULED_DATE:\n",
    "df_flights['SCHEDULED_DATE'] = pd.to_datetime(df_flights[['YEAR','MONTH','DAY']]) \n",
    "\n",
    "# modified schedule time format into 4 digit\n",
    "df_flights.SCHEDULED_TIME = df_flights['SCHEDULED_TIME'].astype(str)\n",
    "df_flights.SCHEDULED_TIME = df_flights.SCHEDULED_TIME.apply(lambda x: \"0\"+ x[0] + \":\" + x[-2:] + \":00\" if len(x)==3 else x[0:2] + \":\" + x[-2:] + \":00\")\n",
    "df_flights.SCHEDULED_TIME.head()\n",
    "\n",
    "# New columns SCHEDULED_DT:\n",
    "df_flights['SCHEDULED_DT'] = pd.to_datetime(df_flights[['YEAR','MONTH','DAY']])  + pd.to_timedelta(df_flights.SCHEDULED_TIME)\n",
    "\n",
    "# New column \"Total Delay\" : Departure Delay + Arrival Delay\n",
    "df_flights['TOTAL_DELAY'] = pd.to_numeric(df_flights['DEPARTURE_DELAY']) + pd.to_numeric(df_flights['ARRIVAL_DELAY'])\n",
    "\n",
    "# New columns TIME_CTG:\n",
    "df_flights['TIME_CTG'] = df_flights['SCHEDULED_TIME'].apply(lambda x: 'Night' if x[0:2] in ['22','23','00','01','02','03'] \n",
    "                                                                     else 'Morning' if x[0:2] in ['04','05','06','07','08','09'] \n",
    "                                                                     else 'Afternoon' if x[0:2] in ['10','11','12','13','14','15']\n",
    "                                                                     else 'Evening')\n",
    "\n",
    "# New column \"DELAY_TYPE\" : An indicator to indicate if the flight is delayed. I classify those flights with delays > 20 minutes as 1 and <= 20 minutes as 0\n",
    "df_flights['SIGNIFICANT_DELAY'] = df_flights['TOTAL_DELAY'].apply(lambda x: 0 if x<31 else 1)\n",
    "\n",
    "df_flights = df_flights.merge(df_USA_holiday, how= 'left', left_on = 'SCHEDULED_DATE', right_on = 'DATE')\n",
    "df_flights['IS_HOLIDAY'] = df_flights['DATE'].apply(lambda x: 0 if pd.isnull(x) else 1)\n",
    "\n",
    "print(\"Data Preprocessing Completed\")"
   ]
  },
  {
   "cell_type": "code",
   "execution_count": 51,
   "metadata": {
    "collapsed": true
   },
   "outputs": [],
   "source": [
    "#put asside dec for testing \n",
    "\n",
    "# df_flights_train = df_flights[df_flights.MONTH!=12]\n",
    "# df_flights_test = df_flights[df_flights.MONTH==12]\n",
    "\n",
    "df_flights_train = df_flights"
   ]
  },
  {
   "cell_type": "code",
   "execution_count": 5,
   "metadata": {
    "scrolled": true,
    "slideshow": {
     "slide_type": "slide"
    }
   },
   "outputs": [
    {
     "data": {
      "text/html": [
       "<div style=\"width:100%;\"><div style=\"position:relative;width:100%;height:0;padding-bottom:60%;\"><iframe src=\"data:text/html;charset=utf-8;base64,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\" style=\"position:absolute;width:100%;height:100%;left:0;top:0;border:none !important;\" allowfullscreen webkitallowfullscreen mozallowfullscreen></iframe></div></div>"
      ],
      "text/plain": [
       "<folium.folium.Map at 0xaa10166208>"
      ]
     },
     "execution_count": 5,
     "metadata": {},
     "output_type": "execute_result"
    }
   ],
   "source": [
    "n = folium.Map(tiles='Stamen Terrain', zoom_start=3, location=[37.619,-122.37484] )\n",
    "folium.Marker(\n",
    "                        location=[37.619,-122.37484],\n",
    "                        popup='San Francisco International Airport',\n",
    "                        icon=folium.Icon(icon='plane')\n",
    "                    ).add_to(n)\n",
    "folium.Marker(\n",
    "                        location=[33.94254,-118.40807],\n",
    "                        popup='Los Angeles International Airport',\n",
    "                        icon=folium.Icon(icon='plane', color=\"red\")\n",
    "                    ).add_to(n)\n",
    "\n",
    "n"
   ]
  },
  {
   "cell_type": "markdown",
   "metadata": {},
   "source": [
    "<font color='727375'><i><b>Monthly Delay Pattern\n",
    "\n",
    "</font>"
   ]
  },
  {
   "cell_type": "code",
   "execution_count": 93,
   "metadata": {
    "slideshow": {
     "slide_type": "slide"
    }
   },
   "outputs": [
    {
     "name": "stdout",
     "output_type": "stream",
     "text": [
      "    YEAR  MONTH  FLIGHT_CNT  DELAY_FLIGHT_CNT  DELAY_RATE\n",
      "0   2015      1        2149               390    0.181480\n",
      "1   2015      2        1986               375    0.188822\n",
      "2   2015      3        2205               517    0.234467\n",
      "3   2015      4        2189               414    0.189127\n",
      "4   2015      5        2209               606    0.274332\n",
      "5   2015      6        2499               629    0.251701\n",
      "6   2015      7        2603               955    0.366884\n",
      "7   2015      8        2791               779    0.279111\n",
      "8   2015      9        2458               407    0.165582\n",
      "9   2015     10        2678               427    0.159447\n",
      "10  2015     11        2775               446    0.160721\n",
      "11  2015     12        2645               862    0.325898\n"
     ]
    },
    {
     "data": {
      "text/plain": [
       "<matplotlib.text.Text at 0xa0226f3f60>"
      ]
     },
     "execution_count": 93,
     "metadata": {},
     "output_type": "execute_result"
    },
    {
     "data": {
      "image/png": "[encoded data removed]",
      "text/plain": [
       "<matplotlib.figure.Figure at 0xa021326240>"
      ]
     },
     "metadata": {},
     "output_type": "display_data"
    }
   ],
   "source": [
    "df_delay_time_series = df_flights_train.groupby(['YEAR','MONTH'])['ORIGIN_AIRPORT'].count().to_frame('FLIGHT_CNT')\n",
    "df_delay_time_series['DELAY_FLIGHT_CNT'] = df_flights_train[df_flights_train.SIGNIFICANT_DELAY==1].groupby(['YEAR','MONTH'])['ORIGIN_AIRPORT'].count()\n",
    "df_delay_time_series['DELAY_RATE'] = df_delay_time_series.DELAY_FLIGHT_CNT/df_delay_time_series.FLIGHT_CNT\n",
    "df_delay_time_series = df_delay_time_series.reset_index()\n",
    "print(df_delay_time_series)\n",
    "plt.figure(figsize=(15,5)).add_subplot()\n",
    "# ax2 = ax.twinx()\n",
    "plt.bar(df_delay_time_series.MONTH, df_delay_time_series.FLIGHT_CNT)\n",
    "plt.bar(df_delay_time_series.MONTH, df_delay_time_series.DELAY_FLIGHT_CNT)\n",
    "# ax2.plot(df_delay_time_series.MONTH, df_delay_time_series.DELAY_FLIGHT_CNT/df_delay_time_series.FLIGHT_CNT)\n",
    "\n",
    "plt.legend(['Flight Count','Delay Flight Count'])\n",
    "plt.ylabel('Number of Flight',fontsize = 14)\n",
    "plt.xlabel('Months',fontsize = 14)\n",
    "plt.title('Flight Count Vs Flight Delay by Month',fontsize = 20)\n",
    "\n",
    "\n"
   ]
  },
  {
   "cell_type": "code",
   "execution_count": 92,
   "metadata": {
    "slideshow": {
     "slide_type": "slide"
    }
   },
   "outputs": [
    {
     "name": "stdout",
     "output_type": "stream",
     "text": [
      "   DAY_OF_WEEK  FLIGHT_CNT  DELAY_FLIGHT_CNT  Delay Rate\n",
      "0            1        4400              1197    0.272045\n",
      "1            2        4305               792    0.183972\n",
      "2            3        4360               826    0.189450\n",
      "3            4        4393              1108    0.252219\n",
      "4            5        4435              1147    0.258625\n",
      "5            6        3259               412    0.126419\n",
      "6            7        4035              1325    0.328377\n"
     ]
    },
    {
     "data": {
      "text/plain": [
       "<matplotlib.text.Text at 0xa0225da4e0>"
      ]
     },
     "execution_count": 92,
     "metadata": {},
     "output_type": "execute_result"
    },
    {
     "data": {
      "image/png": "[encoded data removed]",
      "text/plain": [
       "<matplotlib.figure.Figure at 0xa00cc07978>"
      ]
     },
     "metadata": {},
     "output_type": "display_data"
    }
   ],
   "source": [
    "df_delay_time_series2 = df_flights_train.groupby(['DAY_OF_WEEK'])['ORIGIN_AIRPORT'].count().to_frame('FLIGHT_CNT')\n",
    "df_delay_time_series2['DELAY_FLIGHT_CNT'] = df_flights_train[df_flights_train.SIGNIFICANT_DELAY==1].groupby(['DAY_OF_WEEK'])['ORIGIN_AIRPORT'].count()\n",
    "df_delay_time_series2['Delay Rate'] = df_delay_time_series2.DELAY_FLIGHT_CNT/df_delay_time_series2.FLIGHT_CNT\n",
    "df_delay_time_series2 = df_delay_time_series2.reset_index()\n",
    "print(df_delay_time_series2)\n",
    "plt.figure(figsize=(15,5)).add_subplot()\n",
    "\n",
    "plt.bar(df_delay_time_series2.DAY_OF_WEEK, df_delay_time_series2.FLIGHT_CNT)\n",
    "plt.bar(df_delay_time_series2.DAY_OF_WEEK, df_delay_time_series2.DELAY_FLIGHT_CNT)\n",
    "\n",
    "\n",
    "plt.legend(['Flight Count','Delay Flight Count'])\n",
    "plt.ylabel('Number of Flight',fontsize = 14)\n",
    "plt.xlabel('Day of Week',fontsize = 14)\n",
    "plt.title('Flight Count Vs Flight Delay by Day of Week',fontsize = 20)\n",
    "\n"
   ]
  },
  {
   "cell_type": "code",
   "execution_count": 90,
   "metadata": {
    "slideshow": {
     "slide_type": "slide"
    }
   },
   "outputs": [
    {
     "name": "stdout",
     "output_type": "stream",
     "text": [
      "  AIRLINE  FLIGHT_CNT  Delay_Flight  Delay Rate\n",
      "0      AA        4234           798    0.188474\n",
      "1      DL        3139          1088    0.346607\n",
      "2      OO        1282           277    0.216069\n",
      "3      UA        7669          1579    0.205894\n",
      "4      VX        6676          1480    0.221690\n",
      "5      WN        6187          1585    0.256182\n"
     ]
    },
    {
     "data": {
      "text/plain": [
       "<matplotlib.text.Text at 0xa021348cf8>"
      ]
     },
     "execution_count": 90,
     "metadata": {},
     "output_type": "execute_result"
    },
    {
     "data": {
      "image/png": "[encoded data removed]",
      "text/plain": [
       "<matplotlib.figure.Figure at 0xa0212510f0>"
      ]
     },
     "metadata": {},
     "output_type": "display_data"
    }
   ],
   "source": [
    "\n",
    "df_delay_airline = df_flights_train.groupby(['AIRLINE'])['AIRLINE'].count().to_frame('FLIGHT_CNT')\n",
    "df_delay_airline['Delay_Flight'] = df_flights_train[df_flights_train.SIGNIFICANT_DELAY==1].groupby(['AIRLINE'])['AIRLINE'].count()\n",
    "df_delay_airline['Delay Rate'] = df_delay_airline.Delay_Flight/df_delay_airline.FLIGHT_CNT\n",
    "df_delay_airline = df_delay_airline.reset_index()\n",
    "print(df_delay_airline)\n",
    "plt.figure(figsize=(15,5)).add_subplot()\n",
    "\n",
    "plt.bar(df_delay_airline.index, df_delay_airline.FLIGHT_CNT)\n",
    "plt.bar(df_delay_airline.index, df_delay_airline.Delay_Flight)\n",
    "plt.xticks(df_delay_airline.index,df_delay_airline.AIRLINE.values,fontsize = 10)\n",
    "\n",
    "plt.legend(['Flight Count','Delay Flight Count'])\n",
    "plt.ylabel('Number of Flight',fontsize = 14)\n",
    "plt.xlabel('Airlines',fontsize = 14)\n",
    "plt.title('Flight Count Vs Flight Delay by Airlines',fontsize = 20)\n"
   ]
  },
  {
   "cell_type": "code",
   "execution_count": 88,
   "metadata": {},
   "outputs": [
    {
     "name": "stdout",
     "output_type": "stream",
     "text": [
      "   IS_HOLIDAY  FLIGHT_CNT  Delay_Flight  Delay Rate\n",
      "0           0       28384          6674    0.235132\n",
      "1           1         803           133    0.165629\n"
     ]
    },
    {
     "data": {
      "text/plain": [
       "<matplotlib.text.Text at 0xa0220e7fd0>"
      ]
     },
     "execution_count": 88,
     "metadata": {},
     "output_type": "execute_result"
    },
    {
     "data": {
      "image/png": "[encoded data removed]",
      "text/plain": [
       "<matplotlib.figure.Figure at 0xa00cc30710>"
      ]
     },
     "metadata": {},
     "output_type": "display_data"
    }
   ],
   "source": [
    "df_delay_holiday = df_flights_train.groupby(['IS_HOLIDAY'])['AIRLINE'].count().to_frame('FLIGHT_CNT')\n",
    "df_delay_holiday['Delay_Flight'] = df_flights_train[df_flights_train.SIGNIFICANT_DELAY==1].groupby(['IS_HOLIDAY'])['AIRLINE'].count()\n",
    "df_delay_holiday['Delay Rate'] = df_delay_holiday.Delay_Flight/df_delay_holiday.FLIGHT_CNT\n",
    "df_delay_holiday = df_delay_holiday.reset_index()\n",
    "print(df_delay_holiday)\n",
    "plt.figure(figsize=(15,5)).add_subplot()\n",
    "\n",
    "plt.bar(df_delay_holiday.index, df_delay_holiday.FLIGHT_CNT)\n",
    "plt.bar(df_delay_holiday.index, df_delay_holiday.Delay_Flight)\n",
    "plt.xticks(df_delay_holiday.index,['Normal Day','Holiday'],fontsize = 10)\n",
    "\n",
    "plt.legend(['Flight Count','Delay Flight Count'])\n",
    "plt.ylabel('Number of Flight',fontsize = 14)\n",
    "plt.xlabel('Day Types',fontsize = 14)\n",
    "plt.title('Flight Count Vs Flight Delay by Holiday',fontsize = 20)\n"
   ]
  },
  {
   "cell_type": "code",
   "execution_count": 87,
   "metadata": {},
   "outputs": [
    {
     "name": "stdout",
     "output_type": "stream",
     "text": [
      "  TIME_CTG  FLIGHT_CNT  Delay_Flight  Delay Rate\n",
      "0  Evening       28016          6554    0.233938\n",
      "1    Night        1171           253    0.216055\n"
     ]
    },
    {
     "data": {
      "text/plain": [
       "<matplotlib.text.Text at 0xa01fc16f98>"
      ]
     },
     "execution_count": 87,
     "metadata": {},
     "output_type": "execute_result"
    },
    {
     "data": {
      "image/png": "[encoded data removed]",
      "text/plain": [
       "<matplotlib.figure.Figure at 0xa01eb569e8>"
      ]
     },
     "metadata": {},
     "output_type": "display_data"
    }
   ],
   "source": [
    "df_delay_time_ctg = df_flights_train.groupby(['TIME_CTG'])['AIRLINE'].count().to_frame('FLIGHT_CNT')\n",
    "df_delay_time_ctg['Delay_Flight'] = df_flights_train[df_flights_train.SIGNIFICANT_DELAY==1].groupby(['TIME_CTG'])['AIRLINE'].count()\n",
    "df_delay_time_ctg['Delay Rate'] = df_delay_time_ctg.Delay_Flight/df_delay_time_ctg.FLIGHT_CNT\n",
    "df_delay_time_ctg = df_delay_time_ctg.reset_index()\n",
    "print(df_delay_time_ctg)\n",
    "plt.figure(figsize=(15,5)).add_subplot()\n",
    "\n",
    "plt.bar(df_delay_time_ctg.index, df_delay_time_ctg.FLIGHT_CNT)\n",
    "plt.bar(df_delay_time_ctg.index, df_delay_time_ctg.Delay_Flight)\n",
    "plt.xticks(df_delay_time_ctg.index,df_delay_time_ctg.TIME_CTG.values,fontsize = 10)\n",
    "\n",
    "plt.legend(['Flight Count','Delay Flight Count'])\n",
    "plt.ylabel('Number of Flight',fontsize = 14)\n",
    "plt.xlabel('Time Category',fontsize = 14)\n",
    "plt.title('Flight Count Vs Flight Delay by Time Category',fontsize = 20)\n"
   ]
  },
  {
   "cell_type": "markdown",
   "metadata": {
    "slideshow": {
     "slide_type": "slide"
    }
   },
   "source": [
    "<a name = \"5\"></a>\n",
    "\n",
    "## 5. Data Preprocessing\n",
    "\n",
    "First level of data transformation and consolidation of various data sources above were performed in python and excel. \n",
    "\n",
    "<font size = 1> [home](#home) </font>"
   ]
  },
  {
   "cell_type": "code",
   "execution_count": 55,
   "metadata": {
    "collapsed": true
   },
   "outputs": [],
   "source": [
    "# set X, y value\n",
    "def features_selection(df):\n",
    "#     X_selected_columns = ['YEAR', 'MONTH', 'DAY_x', 'AIRLINE','SCHEDULED_DATE', 'TIME_CTG']\n",
    "    X_selected_columns = ['YEAR',\n",
    "                        'MONTH',\n",
    "                        'DAY_x',\n",
    "                        'DAY_OF_WEEK',\n",
    "                        'AIRLINE',\n",
    "                        'SCHEDULED_DEPARTURE',\n",
    "                        'SCHEDULED_ARRIVAL',\n",
    "                        'SCHEDULED_DATE',\n",
    "                        'SCHEDULED_DT',\n",
    "                        'TOTAL_DELAY',\n",
    "                        'TIME_CTG',\n",
    "                        'IS_HOLIDAY']\n",
    "    X = df[X_selected_columns]\n",
    "    y = df['SIGNIFICANT_DELAY']    \n",
    "    return X, y"
   ]
  },
  {
   "cell_type": "code",
   "execution_count": 56,
   "metadata": {
    "collapsed": true
   },
   "outputs": [],
   "source": [
    "# encode categorical variables\n",
    "def encode (X):\n",
    "    new_X = pd.DataFrame()\n",
    "    le = preprocessing.LabelEncoder()    \n",
    "    for cols in X.columns.values.tolist():\n",
    "        new_X[cols] = le.fit_transform(X[cols])\n",
    "    return new_X\n"
   ]
  },
  {
   "cell_type": "code",
   "execution_count": 57,
   "metadata": {
    "collapsed": true
   },
   "outputs": [],
   "source": [
    "#Scaled data\n",
    "def scaled_data(Xtrain):\n",
    "    \n",
    "    X_minmax_scaled = MinMaxScaler().fit_transform(Xtrain)\n",
    "    X_SC_scaled = StandardScaler().fit_transform(Xtrain)\n",
    "    \n",
    "   \n",
    "    \n",
    "    return X_minmax_scaled, X_SC_scaled"
   ]
  },
  {
   "cell_type": "code",
   "execution_count": 58,
   "metadata": {
    "collapsed": true
   },
   "outputs": [],
   "source": [
    "# Quick test on few Algorithms\n",
    "def test_model(X_minmax_scaled, X_SC_scaled,y_flights_train):\n",
    "    models = []\n",
    "    models.append(('LogReg', LogisticRegression()))\n",
    "    models.append(('KNN', KNeighborsClassifier()))\n",
    "    models.append(('RForest',RandomForestClassifier()))\n",
    "    models.append(('SVM', SVC()))\n",
    "    # evaluate each model in turn\n",
    "    results = []\n",
    "    results_2=[]\n",
    "    names = []\n",
    "    \n",
    "    print(\"Model Testing Start...\")\n",
    "    print()\n",
    "    for name, model in models:\n",
    "        print(\"Model: {}\".format(name))\n",
    "        #with non_scaled data\n",
    "        cv_results = model_selection.cross_val_score(model, X_minmax_scaled, y_flights_train, cv=cv, scoring='accuracy')\n",
    "        #with scaled data\n",
    "        cv_results_2 = model_selection.cross_val_score(model, X_SC_scaled, y_flights_train, cv=cv, scoring='accuracy')\n",
    "\n",
    "        results.append(cv_results.mean())\n",
    "        results_2.append(cv_results_2.mean())\n",
    "        names.append(name)\n",
    "        \n",
    "    print()  \n",
    "    print(\"Model Testing Completed...\")\n",
    "    return  pd.DataFrame({'Model':names,'Min Max Scaled':results,'Standard Scaled':results_2}, columns=['Model','Min Max Scaled', 'Standard Scaled'])\n",
    "#     return re"
   ]
  },
  {
   "cell_type": "code",
   "execution_count": 59,
   "metadata": {
    "collapsed": true
   },
   "outputs": [],
   "source": [
    "# Model Training\n",
    "\n",
    "def grid_search(X, y,models):\n",
    "    \n",
    "    result = []\n",
    "    result2 = []\n",
    "    st = []\n",
    "    et = []\n",
    "    print(\"Grid Search Function Start ..\")\n",
    "    print()\n",
    "    for name, model, param in models:\n",
    "        st.append(pd.to_datetime(datetime.datetime.now()))\n",
    "        result_name = name\n",
    "        \n",
    "        name = model\n",
    "        name  = GridSearchCV(name, param, scoring='accuracy')\n",
    "        name.fit(X,y)        \n",
    "        result.append(result_name)\n",
    "        result2.append(name.best_params_)\n",
    "        print('Model : {}; best_params :{}'.format(result_name, name.best_params_))\n",
    "        et.append(pd.to_datetime(datetime.datetime.now()))    \n",
    "    print()\n",
    "    print(\"Grid Search Function End ..\")\n",
    "    return  pd.DataFrame({'Model':result,'Best Param':result2,'Start Time':st, 'End Time':et}, columns=['Model','Best Param','Start Time', 'End Time'])\n",
    "\n"
   ]
  },
  {
   "cell_type": "code",
   "execution_count": 60,
   "metadata": {
    "collapsed": true
   },
   "outputs": [],
   "source": [
    "def train_model(X, X2, y, y2,models):\n",
    "    nm = []\n",
    "    acs = []\n",
    "    ps = []\n",
    "    rs = []\n",
    "    f1s = []\n",
    "    ras = []\n",
    "    st = []\n",
    "    et = []\n",
    "    mdl = []\n",
    "    result_name = ''\n",
    "    print(\"Model Training Start ..\")\n",
    "    print()\n",
    "        \n",
    "\n",
    "    for name, model in models:\n",
    "        print('Model : {}'.format(name))\n",
    "        result_name = name\n",
    "        nm.append(result_name)\n",
    "        st.append(pd.to_datetime(datetime.datetime.now()))\n",
    "        \n",
    "        fit_model = model.fit(X, y)\n",
    "        yfit = fit_model.predict(X2)\n",
    "        \n",
    "        acs.append(accuracy_score(y2, yfit))\n",
    "        ps.append(precision_score(y2, yfit))\n",
    "        rs.append(recall_score(y2, yfit))\n",
    "        f1s.append(f1_score(y2, yfit))\n",
    "        ras.append(roc_auc_score(y2, yfit))\n",
    "        et.append(pd.to_datetime(datetime.datetime.now()))\n",
    "        mdl.append(model)\n",
    "#     return\n",
    "    print()\n",
    "    print(\"Model Training End ..\")\n",
    "\n",
    "    return  pd.DataFrame({'Model Name':nm,\n",
    "                         'Accuracy Score':acs,\n",
    "                         'Precision Score':ps,\n",
    "                         'Recall_Score':rs,\n",
    "                         'F1 Score':f1s,\n",
    "                         'ROC AUC Score':ras,\n",
    "                         'Start Time':st, \n",
    "                         'End Time':et,\n",
    "                         'Model':mdl}, columns=['Model Name',\n",
    "                                                        'Accuracy Score',\n",
    "                                                                  'Precision Score',\n",
    "                                                                  'Recall_Score',\n",
    "                                                                  'F1 Score',\n",
    "                                                                  'ROC AUC Score',\n",
    "                                                                  'Start Time',\n",
    "                                                                  'End Time',\n",
    "                                                                  'Model'])"
   ]
  },
  {
   "cell_type": "markdown",
   "metadata": {
    "slideshow": {
     "slide_type": "slide"
    }
   },
   "source": [
    "<font color='727375'><i><b>\n",
    "<br> 1. Features Selection\n",
    "<br> 2. Train Test Split\n",
    "<br> 3. categorical Data Encoding\n",
    "<br> 4. Data Scaling\n",
    "\n",
    "</font>"
   ]
  },
  {
   "cell_type": "code",
   "execution_count": 61,
   "metadata": {
    "slideshow": {
     "slide_type": "subslide"
    }
   },
   "outputs": [
    {
     "name": "stdout",
     "output_type": "stream",
     "text": [
      "Feature engineering process start...\n",
      "\n",
      "1. Perform features selection\n",
      "2. Perform data spliting...\n",
      "3. Perform categorical data encoding...\n",
      "4. Perform data scaling...\n",
      "\n",
      "Feature engineering process end...\n"
     ]
    }
   ],
   "source": [
    "print(\"Feature engineering process start...\")\n",
    "print()\n",
    "print(\"1. Perform features selection\")\n",
    "#feature selection\n",
    "X_flights, y_flights = features_selection(df_flights_train)\n",
    "\n",
    "#split to train & test\n",
    "print(\"2. Perform data spliting...\")\n",
    "X_flights_train, X_flights_test, y_flights_train, y_flights_test = train_test_split(X_flights, y_flights, test_size=0.2, random_state=42)\n",
    "\n",
    "\n",
    "print(\"3. Perform categorical data encoding...\")\n",
    "X_train_encode = encode(X_flights_train)\n",
    "X_test_encode = encode(X_flights_test)\n",
    "\n",
    "#transform data\n",
    "print(\"4. Perform data scaling...\")\n",
    "X_train_minmax_scaled, X_train_SC_scaled = scaled_data(X_train_encode)\n",
    "X_test_minmax_scaled, X_test_SC_scaled = scaled_data(X_test_encode)\n",
    "\n",
    "print()\n",
    "print(\"Feature engineering process end...\")"
   ]
  },
  {
   "cell_type": "markdown",
   "metadata": {
    "slideshow": {
     "slide_type": "slide"
    }
   },
   "source": [
    "<font color='727375'><i><b>Quick test for some models\n",
    "<br> 1. Logistic Regression\n",
    "<br> 2. KNN\n",
    "<br> 3. SVC \n",
    "<br> 4. Random Forest\n",
    "\n",
    "</font>"
   ]
  },
  {
   "cell_type": "code",
   "execution_count": 62,
   "metadata": {
    "slideshow": {
     "slide_type": "subslide"
    }
   },
   "outputs": [
    {
     "name": "stdout",
     "output_type": "stream",
     "text": [
      "Model Testing Start...\n",
      "\n",
      "Model: LogReg\n",
      "Model: KNN\n",
      "Model: RForest\n",
      "Model: SVM\n",
      "\n",
      "Model Testing Completed...\n",
      "     Model  Min Max Scaled  Standard Scaled\n",
      "0   LogReg        0.970621         0.997730\n",
      "1      KNN        0.895075         0.951991\n",
      "2  RForest        1.000000         1.000000\n",
      "3      SVM        0.958544         0.991178\n",
      "Wall time: 2min 9s\n"
     ]
    }
   ],
   "source": [
    "%%time\n",
    "# test model\n",
    "cv = model_selection.ShuffleSplit(n_splits=5, test_size=0.2, random_state=42)\n",
    "print(test_model(X_train_minmax_scaled, X_train_SC_scaled,y_flights_train))\n"
   ]
  },
  {
   "cell_type": "code",
   "execution_count": 63,
   "metadata": {},
   "outputs": [
    {
     "name": "stdout",
     "output_type": "stream",
     "text": [
      "Grid Search Function Start ..\n",
      "\n",
      "Model : LogisticRegression; best_params :{'C': 0.98599999999999999, 'tol': 0.0001}\n",
      "Model : KNeighborsClassifier; best_params :{'n_neighbors': 3}\n",
      "Model : RandomForestClassifier; best_params :{'n_estimators': 16}\n",
      "\n",
      "Grid Search Function End ..\n",
      "Wall time: 4min 42s\n"
     ]
    }
   ],
   "source": [
    "%%time\n",
    "#LR 'solver':['liblinear','sag']\n",
    "# optimizing model\n",
    "\n",
    "opt_models = []\n",
    "#LogisticRegression\n",
    "opt_models.append(('LogisticRegression', \n",
    "                   LogisticRegression(), \n",
    "                   {'C':np.arange(0.001,1,0.005), \n",
    "                    'tol': np.arange(0.0001,0.001,0.0010)}))\n",
    "\n",
    "#KNeighborsClassifier\n",
    "opt_models.append(('KNeighborsClassifier', \n",
    "                   KNeighborsClassifier(), \n",
    "                   {'n_neighbors':np.arange(1,6,1)}))\n",
    "\n",
    "#SVC\n",
    "# opt_models.append(('SVC', SVC(), \n",
    "#                    {'C':np.arange(0.1,1.5,0.2), \n",
    "#                     'gamma':np.arange(13,15,0.5)}))\n",
    "\n",
    "#RandomForestClassifier\n",
    "opt_models.append(('RandomForestClassifier', \n",
    "                   RandomForestClassifier(), \n",
    "                   {'n_estimators':np.arange(1,50,5)}))\n",
    "\n",
    "\n",
    "best_param = grid_search(X_train_SC_scaled, y_flights_train,opt_models)\n",
    "best_param"
   ]
  },
  {
   "cell_type": "code",
   "execution_count": 64,
   "metadata": {
    "slideshow": {
     "slide_type": "slide"
    }
   },
   "outputs": [
    {
     "data": {
      "text/html": [
       "<div>\n",
       "<style>\n",
       "    .dataframe thead tr:only-child th {\n",
       "        text-align: right;\n",
       "    }\n",
       "\n",
       "    .dataframe thead th {\n",
       "        text-align: left;\n",
       "    }\n",
       "\n",
       "    .dataframe tbody tr th {\n",
       "        vertical-align: top;\n",
       "    }\n",
       "</style>\n",
       "<table border=\"1\" class=\"dataframe\">\n",
       "  <thead>\n",
       "    <tr style=\"text-align: right;\">\n",
       "      <th></th>\n",
       "      <th>Model</th>\n",
       "      <th>Best Param</th>\n",
       "      <th>Start Time</th>\n",
       "      <th>End Time</th>\n",
       "    </tr>\n",
       "  </thead>\n",
       "  <tbody>\n",
       "    <tr>\n",
       "      <th>0</th>\n",
       "      <td>LogisticRegression</td>\n",
       "      <td>{'C': 0.986, 'tol': 0.0001}</td>\n",
       "      <td>2017-10-20 10:26:53.090038</td>\n",
       "      <td>2017-10-20 10:28:25.903906</td>\n",
       "    </tr>\n",
       "    <tr>\n",
       "      <th>1</th>\n",
       "      <td>KNeighborsClassifier</td>\n",
       "      <td>{'n_neighbors': 3}</td>\n",
       "      <td>2017-10-20 10:28:25.919532</td>\n",
       "      <td>2017-10-20 10:31:12.088770</td>\n",
       "    </tr>\n",
       "    <tr>\n",
       "      <th>2</th>\n",
       "      <td>RandomForestClassifier</td>\n",
       "      <td>{'n_estimators': 16}</td>\n",
       "      <td>2017-10-20 10:31:12.088770</td>\n",
       "      <td>2017-10-20 10:31:35.962527</td>\n",
       "    </tr>\n",
       "  </tbody>\n",
       "</table>\n",
       "</div>"
      ],
      "text/plain": [
       "                    Model                   Best Param  \\\n",
       "0      LogisticRegression  {'C': 0.986, 'tol': 0.0001}   \n",
       "1    KNeighborsClassifier           {'n_neighbors': 3}   \n",
       "2  RandomForestClassifier         {'n_estimators': 16}   \n",
       "\n",
       "                  Start Time                   End Time  \n",
       "0 2017-10-20 10:26:53.090038 2017-10-20 10:28:25.903906  \n",
       "1 2017-10-20 10:28:25.919532 2017-10-20 10:31:12.088770  \n",
       "2 2017-10-20 10:31:12.088770 2017-10-20 10:31:35.962527  "
      ]
     },
     "execution_count": 64,
     "metadata": {},
     "output_type": "execute_result"
    }
   ],
   "source": [
    "best_param"
   ]
  },
  {
   "cell_type": "code",
   "execution_count": 65,
   "metadata": {},
   "outputs": [
    {
     "name": "stdout",
     "output_type": "stream",
     "text": [
      "Model Training Start ..\n",
      "\n",
      "Model : LogisticRegression\n",
      "Model : KNeighborsClassifier\n",
      "Model : RandomForestClassifier\n",
      "\n",
      "Model Training End ..\n",
      "Wall time: 6.14 s\n"
     ]
    }
   ],
   "source": [
    "%%time\n",
    "\n",
    "tr_models=[]\n",
    "\n",
    "#LogisticRegression\n",
    "tr_models.append(('LogisticRegression', \n",
    "                   LogisticRegression(**best_param['Best Param'][best_param['Model']=='LogisticRegression'].values[0])))\n",
    "\n",
    "#KNeighborsClassifier\n",
    "tr_models.append(('KNeighborsClassifier', \n",
    "                   KNeighborsClassifier(**best_param['Best Param'][best_param['Model']=='KNeighborsClassifier'].values[0])))\n",
    "# #SVC\n",
    "# tr_models.append(('SVC', \n",
    "#                    SVC(**best_param['Best Param'][best_param['Model']=='SVC'].values[0])))\n",
    "\n",
    "#RandomForestClassifier\n",
    "tr_models.append(('RandomForestClassifier', \n",
    "                   RandomForestClassifier(**best_param['Best Param'][best_param['Model']=='RandomForestClassifier'].values[0])))\n",
    "\n",
    "model_finding = train_model(X_train_SC_scaled, X_test_SC_scaled, y_flights_train, y_flights_test,tr_models)\n",
    "# print(model_finding)\n"
   ]
  },
  {
   "cell_type": "code",
   "execution_count": 66,
   "metadata": {
    "slideshow": {
     "slide_type": "slide"
    }
   },
   "outputs": [
    {
     "data": {
      "text/html": [
       "<div>\n",
       "<style>\n",
       "    .dataframe thead tr:only-child th {\n",
       "        text-align: right;\n",
       "    }\n",
       "\n",
       "    .dataframe thead th {\n",
       "        text-align: left;\n",
       "    }\n",
       "\n",
       "    .dataframe tbody tr th {\n",
       "        vertical-align: top;\n",
       "    }\n",
       "</style>\n",
       "<table border=\"1\" class=\"dataframe\">\n",
       "  <thead>\n",
       "    <tr style=\"text-align: right;\">\n",
       "      <th></th>\n",
       "      <th>Model Name</th>\n",
       "      <th>Accuracy Score</th>\n",
       "      <th>Precision Score</th>\n",
       "      <th>Recall_Score</th>\n",
       "      <th>F1 Score</th>\n",
       "      <th>ROC AUC Score</th>\n",
       "      <th>Start Time</th>\n",
       "      <th>End Time</th>\n",
       "      <th>Model</th>\n",
       "    </tr>\n",
       "  </thead>\n",
       "  <tbody>\n",
       "    <tr>\n",
       "      <th>0</th>\n",
       "      <td>LogisticRegression</td>\n",
       "      <td>0.993148</td>\n",
       "      <td>0.971161</td>\n",
       "      <td>1.000000</td>\n",
       "      <td>0.985369</td>\n",
       "      <td>0.995547</td>\n",
       "      <td>2017-10-20 10:32:02.169781</td>\n",
       "      <td>2017-10-20 10:32:02.497824</td>\n",
       "      <td>LogisticRegression(C=0.98599999999999999, clas...</td>\n",
       "    </tr>\n",
       "    <tr>\n",
       "      <th>1</th>\n",
       "      <td>KNeighborsClassifier</td>\n",
       "      <td>0.962658</td>\n",
       "      <td>0.958570</td>\n",
       "      <td>0.876021</td>\n",
       "      <td>0.915438</td>\n",
       "      <td>0.932332</td>\n",
       "      <td>2017-10-20 10:32:02.501824</td>\n",
       "      <td>2017-10-20 10:32:07.684587</td>\n",
       "      <td>KNeighborsClassifier(algorithm='auto', leaf_si...</td>\n",
       "    </tr>\n",
       "    <tr>\n",
       "      <th>2</th>\n",
       "      <td>RandomForestClassifier</td>\n",
       "      <td>0.990236</td>\n",
       "      <td>0.959402</td>\n",
       "      <td>1.000000</td>\n",
       "      <td>0.979280</td>\n",
       "      <td>0.993654</td>\n",
       "      <td>2017-10-20 10:32:07.684587</td>\n",
       "      <td>2017-10-20 10:32:08.306551</td>\n",
       "      <td>(DecisionTreeClassifier(class_weight=None, cri...</td>\n",
       "    </tr>\n",
       "  </tbody>\n",
       "</table>\n",
       "</div>"
      ],
      "text/plain": [
       "               Model Name  Accuracy Score  Precision Score  Recall_Score  \\\n",
       "0      LogisticRegression        0.993148         0.971161      1.000000   \n",
       "1    KNeighborsClassifier        0.962658         0.958570      0.876021   \n",
       "2  RandomForestClassifier        0.990236         0.959402      1.000000   \n",
       "\n",
       "   F1 Score  ROC AUC Score                 Start Time  \\\n",
       "0  0.985369       0.995547 2017-10-20 10:32:02.169781   \n",
       "1  0.915438       0.932332 2017-10-20 10:32:02.501824   \n",
       "2  0.979280       0.993654 2017-10-20 10:32:07.684587   \n",
       "\n",
       "                    End Time  \\\n",
       "0 2017-10-20 10:32:02.497824   \n",
       "1 2017-10-20 10:32:07.684587   \n",
       "2 2017-10-20 10:32:08.306551   \n",
       "\n",
       "                                               Model  \n",
       "0  LogisticRegression(C=0.98599999999999999, clas...  \n",
       "1  KNeighborsClassifier(algorithm='auto', leaf_si...  \n",
       "2  (DecisionTreeClassifier(class_weight=None, cri...  "
      ]
     },
     "execution_count": 66,
     "metadata": {},
     "output_type": "execute_result"
    }
   ],
   "source": [
    "model_finding"
   ]
  },
  {
   "cell_type": "code",
   "execution_count": 67,
   "metadata": {
    "slideshow": {
     "slide_type": "slide"
    }
   },
   "outputs": [
    {
     "data": {
      "text/plain": [
       "<matplotlib.text.Text at 0xa00db18d68>"
      ]
     },
     "execution_count": 67,
     "metadata": {},
     "output_type": "execute_result"
    },
    {
     "data": {
      "image/png": "[encoded data removed]",
      "text/plain": [
       "<matplotlib.figure.Figure at 0xa07679a588>"
      ]
     },
     "metadata": {},
     "output_type": "display_data"
    }
   ],
   "source": [
    "%matplotlib inline\n",
    "model_finding2 = pd.DataFrame({'Accuracy Score':model_finding['Accuracy Score'].tolist(),\n",
    "                                  'Precision Score':model_finding['Precision Score'].tolist(),\n",
    "                                  'Recall_Score':model_finding['Recall_Score'].tolist(),\n",
    "                                  'F1 Score':model_finding['F1 Score'].tolist(),\n",
    "                                  'ROC AUC Score':model_finding['ROC AUC Score'].tolist()}\n",
    "                              ,index = ['LogisticRegression','KNeighborsClassifier','RandomForestClassifier'])\n",
    "model_finding2 = model_finding2.T\n",
    "\n",
    "plt.figure(figsize=(15,5)).add_subplot()\n",
    "width = 0.2;\n",
    "xloc = np.array(range(len(model_finding2.index)+2))\n",
    "adjloc = xloc[1:-1]-width\n",
    "\n",
    "plt.bar(adjloc*8,model_finding2['LogisticRegression'], color = 'green', alpha = 0.5, label=model_finding2['LogisticRegression'].name)\n",
    "plt.bar(adjloc*8+width*4,model_finding2['KNeighborsClassifier'], color = 'red', alpha = 0.5, label=model_finding2['KNeighborsClassifier'].name)\n",
    "plt.bar(adjloc*8+width*8,model_finding2['RandomForestClassifier'], color = 'blue', alpha = 0.5, label=model_finding2['RandomForestClassifier'].name)\n",
    "\n",
    "plt.xticks(xloc[1:-1]+width*8+adjloc*7.4,model_finding2.index,size = 14)\n",
    "plt.yticks(size=10)\n",
    "plt.ylim(0,1.1)\n",
    "plt.legend(fontsize = 14, loc = 2, ncol=6)\n",
    "plt.title(\"Model Finding\", size = 14)\n",
    "\n"
   ]
  },
  {
   "cell_type": "code",
   "execution_count": 68,
   "metadata": {
    "slideshow": {
     "slide_type": "slide"
    }
   },
   "outputs": [
    {
     "data": {
      "image/png": "[encoded data removed]",
      "text/plain": [
       "<matplotlib.figure.Figure at 0xa00db169e8>"
      ]
     },
     "metadata": {},
     "output_type": "display_data"
    },
    {
     "data": {
      "image/png": "[encoded data removed]",
      "text/plain": [
       "<matplotlib.figure.Figure at 0xa00db0ada0>"
      ]
     },
     "metadata": {},
     "output_type": "display_data"
    },
    {
     "data": {
      "image/png": "[encoded data removed]",
      "text/plain": [
       "<matplotlib.figure.Figure at 0xa00bcfdc50>"
      ]
     },
     "metadata": {},
     "output_type": "display_data"
    }
   ],
   "source": [
    "#confusion matrix\n",
    "%matplotlib inline\n",
    "\n",
    "#training test set\n",
    "i=1\n",
    "for name, models in zip(model_finding['Model Name'],model_finding['Model']):\n",
    "    plt.figure(figsize=(8,10)).add_subplot(1,len(model_finding['Model Name']),i)\n",
    "    yfit = models.predict(X_test_SC_scaled)\n",
    "    mat = confusion_matrix(y_flights_test, yfit)\n",
    "    sns.heatmap(mat.T, square=True, annot=True, fmt='d', cbar=False,\n",
    "        xticklabels=np.unique(y_flights_test),\n",
    "        yticklabels=np.unique(y_flights_test))\n",
    "    plt.xlabel('true label')\n",
    "    plt.ylabel('predicted label');\n",
    "    plt.title(name)\n",
    "    i = i + 1\n"
   ]
  },
  {
   "cell_type": "markdown",
   "metadata": {
    "slideshow": {
     "slide_type": "slide"
    }
   },
   "source": [
    "<a name = \"7\"></a>\n",
    "## 7. Finding\n",
    "<a name = \"7A\"></a>\n",
    "### <font color='#7a1cff'>Case A - Prediction of flight delay for San Francisco International Airport and Los Angeles International Airport </font>\n",
    "\n",
    "In our case of prediction, the result for:\n",
    " - True Positive (**TP**) --> correctly predicting delay flight.\n",
    " - False Negative (**FN**) --> incorrectly predicting delay flight as 'non delay flight'.\n",
    " - True Negative (**TN**) --> correctly predicting non delay flight.\n",
    " - False Positive (**FP**) --> incorrectly predicting non delay flight as 'delay flight'\n",
    "\n",
    "Holiday schedule & plan will rely our this prediction. Hence, if it is predicted non delay but actual is delay might screw up the initial schedule.\n",
    "\n",
    "On the other hand, if our prediction of flight delay but actual it is not will be added bonus. This will be more likely the scenario that we preferred.\n",
    "\n",
    "Our preferred scenario explains the **FN** case, which is related to **recall**. \n",
    "\n",
    "$$\\begin{eqnarray*}\n",
    "\\mbox{recall} &=& { TP / (TP + FN) }\n",
    "\\end{eqnarray*}$$\n",
    "\n",
    "Our \"not preferred\" scenario explains the **FP** case, which is related to **precision**.\n",
    "\n",
    "$$\\begin{eqnarray*}\n",
    "\\mbox{precision} &=& { TP / (TP + FP) }\n",
    "\\end{eqnarray*}$$\n",
    "\n",
    "We proposed to use recall as our primary metrics for selection of our final model. Therefore we will go for logistic regression  modeling for flight delay prediction.\n",
    "   \n",
    "\n",
    "<font size = 1> [home](#home) </font>"
   ]
  }
 ],
 "metadata": {
  "kernelspec": {
   "display_name": "Python 3",
   "language": "python",
   "name": "python3"
  },
  "language_info": {
   "codemirror_mode": {
    "name": "ipython",
    "version": 3
   },
   "file_extension": ".py",
   "mimetype": "text/x-python",
   "name": "python",
   "nbconvert_exporter": "python",
   "pygments_lexer": "ipython3",
   "version": "3.6.1"
  }
 },
 "nbformat": 4,
 "nbformat_minor": 2
}
